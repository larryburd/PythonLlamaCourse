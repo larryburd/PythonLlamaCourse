{
 "cells": [
  {
   "cell_type": "code",
   "execution_count": 4,
   "metadata": {},
   "outputs": [],
   "source": [
    "import os\n",
    "from llama_cpp import Llama\n",
    "from llama_cpp.llama_types import *\n",
    "\n",
    "model: Llama = Llama(\n",
    "    model_path=os.environ[\"LLAMA_13B\"], verbose=False, logits_all=True\n",
    ")"
   ]
  },
  {
   "cell_type": "code",
   "execution_count": 6,
   "metadata": {},
   "outputs": [
    {
     "name": "stdout",
     "output_type": "stream",
     "text": [
      "14th on the list of most dangerous cities in America.\n",
      "The city\n",
      "['1', '4', 'th', ' on', ' the', ' list', ' of', ' most', ' dangerous', ' cities', ' in', ' America', '.', '\\n', 'The', ' city']\n",
      "[-1.2581345, -1.9064457, -2.0102007, -1.4877319, -0.69384456, -0.30852577, -0.12820004, -1.8777747, -1.5640584, -0.2770181, -0.23983036, -1.0902431, -0.76887864, -1.1293881, -1.9391508, -2.3217533]\n",
      "[27, 28, 29, 31, 34, 38, 43, 46, 51, 61, 68, 71, 79, 80, 81, 84]\n"
     ]
    }
   ],
   "source": [
    "result: Completion = model.create_completion(\n",
    "    prompt=\"The capital of Michigan is \", logprobs=3, max_tokens=16, temperature=0\n",
    ")\n",
    "\n",
    "item = result[\"choices\"][0]\n",
    "\n",
    "print(item[\"text\"])\n",
    "\n",
    "# Display the details of the individual token probabilities\n",
    "details: CompletionLogprobs = item[\"logprobs\"]\n",
    "\n",
    "print(details[\"tokens\"])\n",
    "print(\n",
    "    details[\"token_logprobs\"]\n",
    ")\n",
    "print(details[\"text_offset\"])"
   ]
  },
  {
   "cell_type": "code",
   "execution_count": 7,
   "metadata": {},
   "outputs": [
    {
     "name": "stdout",
     "output_type": "stream",
     "text": [
      "{'1': -1.2581345, '2': -1.3801266, '3': -2.0985427}\n",
      "{'4': -1.9064457, '2': -2.1594117, '0': -2.2457373}\n",
      "{'th': -2.0102007, '0': -2.3570406, '4': -2.3871949}\n",
      "{' on': -1.4877319, ' in': -1.7202435, ' largest': -2.0042315}\n",
      "{' the': -0.69384456, ' a': -2.0116336, ' our': -2.0541122}\n",
      "{' list': -0.30852577, ' U': -3.4331338, ' For': -3.4778345}\n",
      "{' of': -0.12820004, '.': -3.4785008, ',': -3.5628467}\n",
      "{' the': -1.2324786, ' most': -1.8777747, ' cities': -2.7289329}\n",
      "{' dangerous': -1.5640584, ' popul': -1.8241092, ' expensive': -2.2319298}\n",
      "{' cities': -0.2770181, ' U': -2.9521394, ' places': -3.1585898}\n",
      "{' in': -0.23983036, ' for': -3.0415556, '.': -3.055794}\n",
      "{' the': -0.45761937, ' America': -1.0902431, ' Michigan': -4.70593}\n",
      "{'.': -0.76887864, ',': -1.3212144, '\\n': -2.5920274}\n",
      "{'\\n': -1.1293881, ' The': -2.3599255, ' It': -3.0682452}\n",
      "{'The': -1.9391508, 'Mich': -2.707284, 'L': -2.7858906}\n",
      "{' capital': -2.0821187, ' city': -2.3217533, ' F': -2.7388074}\n"
     ]
    }
   ],
   "source": [
    "for token_choice in details[\"top_logprobs\"]:\n",
    "    print(token_choice)"
   ]
  },
  {
   "cell_type": "code",
   "execution_count": 8,
   "metadata": {},
   "outputs": [
    {
     "name": "stdout",
     "output_type": "stream",
     "text": [
      "266.7 square miles and has a population of 688\n",
      "['2', '6', '6', '.', '7', ' square', ' miles', ' and', ' has', ' a', ' population', ' of', ' ', '6', '8', '8']\n",
      "[-1.3801266, -1.6226544, -1.8048575, -1.5451418, -1.2031097, -0.7730999, -0.022412572, -1.7859709, -1.4728227, -0.38353992, -0.11885852, -0.09502526, -0.5603637, -0.28472802, -0.58107376, -0.22945267]\n",
      "[27, 28, 29, 30, 31, 32, 39, 45, 49, 53, 55, 66, 69, 70, 71, 72]\n"
     ]
    }
   ],
   "source": [
    "result: Completion = model.create_completion(\n",
    "    prompt=\"The capital of Michigan is \", logprobs=3, max_tokens=16, temperature=0.7\n",
    ")\n",
    "\n",
    "item = result[\"choices\"][0]\n",
    "\n",
    "print(item[\"text\"])\n",
    "\n",
    "# Display the details of the individual token probabilities\n",
    "details: CompletionLogprobs = item[\"logprobs\"]\n",
    "\n",
    "print(details[\"tokens\"])\n",
    "print(\n",
    "    details[\"token_logprobs\"]\n",
    ")\n",
    "print(details[\"text_offset\"])"
   ]
  },
  {
   "cell_type": "code",
   "execution_count": 9,
   "metadata": {},
   "outputs": [
    {
     "name": "stdout",
     "output_type": "stream",
     "text": [
      "{'1': -1.2581345, '2': -1.3801266, '3': -2.0985427}\n",
      "{'6': -1.6226544, '7': -1.9314418, '0': -2.3434873}\n",
      "{'6': -1.8048575, '8': -2.2466109, '7': -2.2865603}\n",
      "{' miles': -0.495217, '.': -1.5451418, ' square': -2.8605917}\n",
      "{'7': -1.2031097, '6': -1.2828588, '9': -2.43923}\n",
      "{' square': -0.7730999, ' miles': -1.3722801, ' mi': -2.45444}\n",
      "{' miles': -0.022412572, ' mile': -4.7888675, ' kilom': -5.7082496}\n",
      "{' in': -1.0913775, ' and': -1.7859709, '.': -1.8821948}\n",
      "{' is': -1.0607018, ' has': -1.4728227, ' home': -3.0478358}\n",
      "{' a': -0.38353992, ' an': -2.60943, ' ': -2.667568}\n",
      "{' population': -0.11885852, ' total': -3.7010672, ' ': -4.688196}\n",
      "{' of': -0.09502526, ' density': -3.4872715, ' over': -4.593462}\n",
      "{' ': -0.5603637, ' over': -2.332899, ' about': -2.7794285}\n",
      "{'6': -0.28472802, '7': -2.2858782, '5': -3.0302534}\n",
      "{'8': -0.58107376, '7': -2.12504, '9': -2.3018913}\n",
      "{'8': -0.22945267, '7': -2.1182466, '6': -3.8770947}\n"
     ]
    }
   ],
   "source": [
    "for token_choice in details[\"top_logprobs\"]:\n",
    "    print(token_choice)"
   ]
  },
  {
   "cell_type": "code",
   "execution_count": 10,
   "metadata": {},
   "outputs": [
    {
     "name": "stdout",
     "output_type": "stream",
     "text": [
      "['2', '6', '6', '.', '7', ' square', ' miles', ' and', ' has', ' a', ' population', ' of', ' ', '6', '8', '8']\n",
      "\n",
      "{'1': -1.2581345, '2': -1.3801266, '3': -2.0985427}\n",
      "{'6': -1.6226544, '7': -1.9314418, '0': -2.3434873}\n",
      "{'6': -1.8048575, '8': -2.2466109, '7': -2.2865603}\n",
      "{' miles': -0.495217, '.': -1.5451418, ' square': -2.8605917}\n",
      "{'7': -1.2031097, '6': -1.2828588, '9': -2.43923}\n",
      "{' square': -0.7730999, ' miles': -1.3722801, ' mi': -2.45444}\n",
      "{' miles': -0.022412572, ' mile': -4.7888675, ' kilom': -5.7082496}\n",
      "{' in': -1.0913775, ' and': -1.7859709, '.': -1.8821948}\n",
      "{' is': -1.0607018, ' has': -1.4728227, ' home': -3.0478358}\n",
      "{' a': -0.38353992, ' an': -2.60943, ' ': -2.667568}\n",
      "{' population': -0.11885852, ' total': -3.7010672, ' ': -4.688196}\n",
      "{' of': -0.09502526, ' density': -3.4872715, ' over': -4.593462}\n",
      "{' ': -0.5603637, ' over': -2.332899, ' about': -2.7794285}\n",
      "{'6': -0.28472802, '7': -2.2858782, '5': -3.0302534}\n",
      "{'8': -0.58107376, '7': -2.12504, '9': -2.3018913}\n",
      "{'8': -0.22945267, '7': -2.1182466, '6': -3.8770947}\n"
     ]
    }
   ],
   "source": [
    "result: Completion = model.create_completion(\n",
    "    prompt=\"The capital of Michigan is \", logprobs=3, max_tokens=16, temperature=1.0, top_k=2\n",
    ")\n",
    "\n",
    "detail: CompletionLogprobs = result[\"choices\"][0][\"logprobs\"]\n",
    "\n",
    "print(details[\"tokens\"])\n",
    "print()\n",
    "\n",
    "for token_choice in details[\"top_logprobs\"]:\n",
    "    print(token_choice)"
   ]
  },
  {
   "cell_type": "code",
   "execution_count": 11,
   "metadata": {},
   "outputs": [
    {
     "name": "stdout",
     "output_type": "stream",
     "text": [
      "['2', '6', '6', '.', '7', ' square', ' miles', ' and', ' has', ' a', ' population', ' of', ' ', '6', '8', '8']\n",
      "\n",
      "{'1': -1.2581345, '2': -1.3801266, '3': -2.0985427}\n",
      "{'6': -1.6226544, '7': -1.9314418, '0': -2.3434873}\n",
      "{'6': -1.8048575, '8': -2.2466109, '7': -2.2865603}\n",
      "{' miles': -0.495217, '.': -1.5451418, ' square': -2.8605917}\n",
      "{'7': -1.2031097, '6': -1.2828588, '9': -2.43923}\n",
      "{' square': -0.7730999, ' miles': -1.3722801, ' mi': -2.45444}\n",
      "{' miles': -0.022412572, ' mile': -4.7888675, ' kilom': -5.7082496}\n",
      "{' in': -1.0913775, ' and': -1.7859709, '.': -1.8821948}\n",
      "{' is': -1.0607018, ' has': -1.4728227, ' home': -3.0478358}\n",
      "{' a': -0.38353992, ' an': -2.60943, ' ': -2.667568}\n",
      "{' population': -0.11885852, ' total': -3.7010672, ' ': -4.688196}\n",
      "{' of': -0.09502526, ' density': -3.4872715, ' over': -4.593462}\n",
      "{' ': -0.5603637, ' over': -2.332899, ' about': -2.7794285}\n",
      "{'6': -0.28472802, '7': -2.2858782, '5': -3.0302534}\n",
      "{'8': -0.58107376, '7': -2.12504, '9': -2.3018913}\n",
      "{'8': -0.22945267, '7': -2.1182466, '6': -3.8770947}\n"
     ]
    }
   ],
   "source": [
    "result: Completion = model.create_completion(\n",
    "    prompt=\"The capital of Michigan is \", logprobs=3, max_tokens=16, temperature=1.0, top_p=0.01\n",
    ")\n",
    "\n",
    "detail: CompletionLogprobs = result[\"choices\"][0][\"logprobs\"]\n",
    "\n",
    "print(details[\"tokens\"])\n",
    "print()\n",
    "\n",
    "for token_choice in details[\"top_logprobs\"]:\n",
    "    print(token_choice)"
   ]
  }
 ],
 "metadata": {
  "kernelspec": {
   "display_name": "Python 3",
   "language": "python",
   "name": "python3"
  },
  "language_info": {
   "codemirror_mode": {
    "name": "ipython",
    "version": 3
   },
   "file_extension": ".py",
   "mimetype": "text/x-python",
   "name": "python",
   "nbconvert_exporter": "python",
   "pygments_lexer": "ipython3",
   "version": "3.10.12"
  }
 },
 "nbformat": 4,
 "nbformat_minor": 2
}
