{
 "cells": [
  {
   "cell_type": "code",
   "execution_count": 1,
   "metadata": {},
   "outputs": [],
   "source": [
    "import os\n",
    "from llama_cpp import Llama\n",
    "from llama_cpp.llama_types import *\n",
    "\n",
    "model: Llama = Llama(\n",
    "    model_path=os.environ[\"LLAMA_13B_CHAT\"], verbose=False, temperature=0\n",
    ")"
   ]
  },
  {
   "cell_type": "code",
   "execution_count": 5,
   "metadata": {},
   "outputs": [
    {
     "name": "stdout",
     "output_type": "stream",
     "text": [
      "{\n",
      "    \"id\": \"chatcmpl-b25e7994-0b6e-45c3-a6e2-ce6666c62b63\",\n",
      "    \"object\": \"chat.completion\",\n",
      "    \"created\": 1717294226,\n",
      "    \"model\": \"/data/llama-2-13b-chat.Q5_K_M.gguf\",\n",
      "    \"choices\": [\n",
      "        {\n",
      "            \"index\": 0,\n",
      "            \"message\": {\n",
      "                \"role\": \"assistant\",\n",
      "                \"content\": \"  The fifth planet in the solar system is Earth.\"\n",
      "            },\n",
      "            \"logprobs\": null,\n",
      "            \"finish_reason\": \"stop\"\n",
      "        }\n",
      "    ],\n",
      "    \"usage\": {\n",
      "        \"prompt_tokens\": 62,\n",
      "        \"completion_tokens\": 11,\n",
      "        \"total_tokens\": 73\n",
      "    }\n",
      "}\n"
     ]
    }
   ],
   "source": [
    "import json\n",
    "\n",
    "messages =[]\n",
    "\n",
    "# System message portion\n",
    "message = ChatCompletionMessage()\n",
    "message[\"role\"] = \"system\"\n",
    "message[\"content\"] = (\n",
    "    'You are an expert astronomer, answer each question which is given to you as factually as possible. If you do not know the answer say \"unknown\".'\n",
    ")\n",
    "messages.append(message)\n",
    "\n",
    "# User Query\n",
    "message = ChatCompletionMessage()\n",
    "message[\"role\"] = \"user\"\n",
    "message[\"content\"] = \"What is the fifth planet in the solar system?\"\n",
    "messages.append(message)\n",
    "\n",
    "# Show result\n",
    "result = model.create_chat_completion(messages=messages)\n",
    "print(json.dumps(result, indent=4))"
   ]
  }
 ],
 "metadata": {
  "kernelspec": {
   "display_name": "Python 3",
   "language": "python",
   "name": "python3"
  },
  "language_info": {
   "codemirror_mode": {
    "name": "ipython",
    "version": 3
   },
   "file_extension": ".py",
   "mimetype": "text/x-python",
   "name": "python",
   "nbconvert_exporter": "python",
   "pygments_lexer": "ipython3",
   "version": "3.10.12"
  }
 },
 "nbformat": 4,
 "nbformat_minor": 2
}
