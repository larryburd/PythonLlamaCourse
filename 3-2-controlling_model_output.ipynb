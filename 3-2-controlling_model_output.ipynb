{
 "cells": [
  {
   "cell_type": "markdown",
   "metadata": {},
   "source": [
    "# Controlling Model Output\n",
    "\n",
    "## Stopping Token Generation\n",
    "\n",
    "Controlling the output of the language model is a difficult task and, as you saw in a previous lecture, we can use few\n",
    "shot prompting to help with some of the formatting requirements, but it can be a bit tricky to have the model just stop\n",
    "after one item. Thankfully, llama.cpp has a couple of other mechanisms we can leverage to improve our control over the\n",
    "model output. The first of these is a stopping criteria.\n"
   ]
  },
  {
   "cell_type": "code",
   "execution_count": 1,
   "metadata": {},
   "outputs": [],
   "source": [
    "# Let's load and configure our llama 2 model\n",
    "import os\n",
    "from llama_cpp import Llama\n",
    "\n",
    "model: Llama = Llama(model_path=os.environ[\"LLAMA_13B\"], verbose=False)"
   ]
  },
  {
   "cell_type": "code",
   "execution_count": 2,
   "metadata": {},
   "outputs": [
    {
     "name": "stdout",
     "output_type": "stream",
     "text": [
      "\n",
      "\n",
      "Most of my readers will be familiar with the question, “what happens when a tree falls in the forest and there’s no-one to hear it"
     ]
    }
   ],
   "source": [
    "# The most blunt way to stop the LLM generation is to indicate\n",
    "# the token or tokens you want to break on in a list when calling\n",
    "# create_completion(). Here I'll ask for the continuation of this\n",
    "# prompt, but I only want a single sentence so I'll stop on a\n",
    "# period or other select punctuation.\n",
    "\n",
    "token_count: int = 0\n",
    "for result in model.create_completion(\n",
    "    prompt=\"What is the sound of one hand clapping?\",\n",
    "    max_tokens=512,\n",
    "    stream=True,\n",
    "    stop=[\".\", \"?\", \"!\"],\n",
    "):\n",
    "    if token_count % 50 == 0:\n",
    "        print(\"\")\n",
    "    token_count = token_count + 1\n",
    "    print(result[\"choices\"][0][\"text\"], end=\"\")"
   ]
  },
  {
   "cell_type": "markdown",
   "metadata": {},
   "source": [
    "Now, this form of stopping is actually done in the python library itself, and not the underlying llama.cpp. There is\n",
    "also an option to set a callback function to determine when to stop as well, and this is through the `stopping_criteria`\n",
    "parameter.\n",
    "\n",
    "I have a confess, this is a source of frustration that I have with the tools we are using. While the tools work well,\n",
    "the docs sometimes lag, or are unclear. The newness of the tools -- and the lack of a clear standard or even dominant\n",
    "tool for development in this space -- also makes it a bit of work sometimes to understand whats happening under the\n",
    "hood.\n",
    "\n",
    "If we go to the documentation on the `llama-cpp-python` bindings website, we see that the `stopping_criteria` is\n",
    "actually a list of callable objects -- so functions -- which take in two parameters, both numpy arrays. The first\n",
    "parameter is an array of unsigned int's and the second an array of single precision float values. The expectation is\n",
    "that the callback function will return a boolean, presumably indicating whether we should stop processing or not.\n",
    "\n",
    "I think this is a bit easier to understand if we just use the debugger to take a look.\n"
   ]
  },
  {
   "cell_type": "code",
   "execution_count": 4,
   "metadata": {},
   "outputs": [
    {
     "name": "stdout",
     "output_type": "stream",
     "text": [
      "\n",
      "\n",
      "I’ve been"
     ]
    },
    {
     "ename": "KeyboardInterrupt",
     "evalue": "",
     "output_type": "error",
     "traceback": [
      "\u001b[0;31m---------------------------------------------------------------------------\u001b[0m",
      "\u001b[0;31mKeyboardInterrupt\u001b[0m                         Traceback (most recent call last)",
      "\u001b[1;32m/home/coder/project/labs/3-2-controlling_model_output.ipynb Cell 5\u001b[0m line \u001b[0;36m1\n\u001b[1;32m      <a href='vscode-notebook-cell://syyukkemyldb.labs.coursera.org/home/coder/project/labs/3-2-controlling_model_output.ipynb#W4sdnNjb2RlLXJlbW90ZQ%3D%3D?line=7'>8</a>\u001b[0m \u001b[39m# Now we'll do the rest as we did previously, this\u001b[39;00m\n\u001b[1;32m      <a href='vscode-notebook-cell://syyukkemyldb.labs.coursera.org/home/coder/project/labs/3-2-controlling_model_output.ipynb#W4sdnNjb2RlLXJlbW90ZQ%3D%3D?line=8'>9</a>\u001b[0m \u001b[39m# time setting up our stopping_criteria callback. I want\u001b[39;00m\n\u001b[1;32m     <a href='vscode-notebook-cell://syyukkemyldb.labs.coursera.org/home/coder/project/labs/3-2-controlling_model_output.ipynb#W4sdnNjb2RlLXJlbW90ZQ%3D%3D?line=9'>10</a>\u001b[0m \u001b[39m# to use a temperature of zero just for a demonstration\u001b[39;00m\n\u001b[1;32m     <a href='vscode-notebook-cell://syyukkemyldb.labs.coursera.org/home/coder/project/labs/3-2-controlling_model_output.ipynb#W4sdnNjb2RlLXJlbW90ZQ%3D%3D?line=10'>11</a>\u001b[0m token_count: \u001b[39mint\u001b[39m \u001b[39m=\u001b[39m \u001b[39m0\u001b[39m\n\u001b[0;32m---> <a href='vscode-notebook-cell://syyukkemyldb.labs.coursera.org/home/coder/project/labs/3-2-controlling_model_output.ipynb#W4sdnNjb2RlLXJlbW90ZQ%3D%3D?line=11'>12</a>\u001b[0m \u001b[39mfor\u001b[39;00m result \u001b[39min\u001b[39;00m model\u001b[39m.\u001b[39mcreate_completion(\n\u001b[1;32m     <a href='vscode-notebook-cell://syyukkemyldb.labs.coursera.org/home/coder/project/labs/3-2-controlling_model_output.ipynb#W4sdnNjb2RlLXJlbW90ZQ%3D%3D?line=12'>13</a>\u001b[0m     prompt\u001b[39m=\u001b[39m\u001b[39m\"\u001b[39m\u001b[39mWhat is the sound of one hand clapping?\u001b[39m\u001b[39m\"\u001b[39m,\n\u001b[1;32m     <a href='vscode-notebook-cell://syyukkemyldb.labs.coursera.org/home/coder/project/labs/3-2-controlling_model_output.ipynb#W4sdnNjb2RlLXJlbW90ZQ%3D%3D?line=13'>14</a>\u001b[0m     max_tokens\u001b[39m=\u001b[39m\u001b[39m512\u001b[39m,\n\u001b[1;32m     <a href='vscode-notebook-cell://syyukkemyldb.labs.coursera.org/home/coder/project/labs/3-2-controlling_model_output.ipynb#W4sdnNjb2RlLXJlbW90ZQ%3D%3D?line=14'>15</a>\u001b[0m     stream\u001b[39m=\u001b[39m\u001b[39mTrue\u001b[39;00m,\n\u001b[1;32m     <a href='vscode-notebook-cell://syyukkemyldb.labs.coursera.org/home/coder/project/labs/3-2-controlling_model_output.ipynb#W4sdnNjb2RlLXJlbW90ZQ%3D%3D?line=15'>16</a>\u001b[0m     temperature\u001b[39m=\u001b[39m\u001b[39m0\u001b[39m,\n\u001b[1;32m     <a href='vscode-notebook-cell://syyukkemyldb.labs.coursera.org/home/coder/project/labs/3-2-controlling_model_output.ipynb#W4sdnNjb2RlLXJlbW90ZQ%3D%3D?line=16'>17</a>\u001b[0m     stopping_criteria\u001b[39m=\u001b[39mshould_stop,\n\u001b[1;32m     <a href='vscode-notebook-cell://syyukkemyldb.labs.coursera.org/home/coder/project/labs/3-2-controlling_model_output.ipynb#W4sdnNjb2RlLXJlbW90ZQ%3D%3D?line=17'>18</a>\u001b[0m ):\n\u001b[1;32m     <a href='vscode-notebook-cell://syyukkemyldb.labs.coursera.org/home/coder/project/labs/3-2-controlling_model_output.ipynb#W4sdnNjb2RlLXJlbW90ZQ%3D%3D?line=18'>19</a>\u001b[0m     \u001b[39mif\u001b[39;00m token_count \u001b[39m%\u001b[39m \u001b[39m50\u001b[39m \u001b[39m==\u001b[39m \u001b[39m0\u001b[39m:\n\u001b[1;32m     <a href='vscode-notebook-cell://syyukkemyldb.labs.coursera.org/home/coder/project/labs/3-2-controlling_model_output.ipynb#W4sdnNjb2RlLXJlbW90ZQ%3D%3D?line=19'>20</a>\u001b[0m         \u001b[39mprint\u001b[39m(\u001b[39m\"\u001b[39m\u001b[39m\"\u001b[39m)\n",
      "File \u001b[0;32m/usr/local/lib/python3.10/dist-packages/llama_cpp/llama.py:1046\u001b[0m, in \u001b[0;36mLlama._create_completion\u001b[0;34m(self, prompt, suffix, max_tokens, temperature, top_p, min_p, typical_p, logprobs, echo, stop, frequency_penalty, presence_penalty, repeat_penalty, top_k, stream, seed, tfs_z, mirostat_mode, mirostat_tau, mirostat_eta, model, stopping_criteria, logits_processor, grammar, logit_bias)\u001b[0m\n\u001b[1;32m   1044\u001b[0m finish_reason \u001b[39m=\u001b[39m \u001b[39m\"\u001b[39m\u001b[39mlength\u001b[39m\u001b[39m\"\u001b[39m\n\u001b[1;32m   1045\u001b[0m multibyte_fix \u001b[39m=\u001b[39m \u001b[39m0\u001b[39m\n\u001b[0;32m-> 1046\u001b[0m \u001b[39mfor\u001b[39;00m token \u001b[39min\u001b[39;00m \u001b[39mself\u001b[39m\u001b[39m.\u001b[39mgenerate(\n\u001b[1;32m   1047\u001b[0m     prompt_tokens,\n\u001b[1;32m   1048\u001b[0m     top_k\u001b[39m=\u001b[39mtop_k,\n\u001b[1;32m   1049\u001b[0m     top_p\u001b[39m=\u001b[39mtop_p,\n\u001b[1;32m   1050\u001b[0m     min_p\u001b[39m=\u001b[39mmin_p,\n\u001b[1;32m   1051\u001b[0m     typical_p\u001b[39m=\u001b[39mtypical_p,\n\u001b[1;32m   1052\u001b[0m     temp\u001b[39m=\u001b[39mtemperature,\n\u001b[1;32m   1053\u001b[0m     tfs_z\u001b[39m=\u001b[39mtfs_z,\n\u001b[1;32m   1054\u001b[0m     mirostat_mode\u001b[39m=\u001b[39mmirostat_mode,\n\u001b[1;32m   1055\u001b[0m     mirostat_tau\u001b[39m=\u001b[39mmirostat_tau,\n\u001b[1;32m   1056\u001b[0m     mirostat_eta\u001b[39m=\u001b[39mmirostat_eta,\n\u001b[1;32m   1057\u001b[0m     frequency_penalty\u001b[39m=\u001b[39mfrequency_penalty,\n\u001b[1;32m   1058\u001b[0m     presence_penalty\u001b[39m=\u001b[39mpresence_penalty,\n\u001b[1;32m   1059\u001b[0m     repeat_penalty\u001b[39m=\u001b[39mrepeat_penalty,\n\u001b[1;32m   1060\u001b[0m     stopping_criteria\u001b[39m=\u001b[39mstopping_criteria,\n\u001b[1;32m   1061\u001b[0m     logits_processor\u001b[39m=\u001b[39mlogits_processor,\n\u001b[1;32m   1062\u001b[0m     grammar\u001b[39m=\u001b[39mgrammar,\n\u001b[1;32m   1063\u001b[0m ):\n\u001b[1;32m   1064\u001b[0m     \u001b[39massert\u001b[39;00m \u001b[39mself\u001b[39m\u001b[39m.\u001b[39m_model\u001b[39m.\u001b[39mmodel \u001b[39mis\u001b[39;00m \u001b[39mnot\u001b[39;00m \u001b[39mNone\u001b[39;00m\n\u001b[1;32m   1065\u001b[0m     \u001b[39mif\u001b[39;00m llama_cpp\u001b[39m.\u001b[39mllama_token_is_eog(\u001b[39mself\u001b[39m\u001b[39m.\u001b[39m_model\u001b[39m.\u001b[39mmodel, token):\n",
      "File \u001b[0;32m/usr/local/lib/python3.10/dist-packages/llama_cpp/llama.py:731\u001b[0m, in \u001b[0;36mLlama.generate\u001b[0;34m(self, tokens, top_k, top_p, min_p, typical_p, temp, repeat_penalty, reset, frequency_penalty, presence_penalty, tfs_z, mirostat_mode, mirostat_tau, mirostat_eta, penalize_nl, logits_processor, stopping_criteria, grammar)\u001b[0m\n\u001b[1;32m    711\u001b[0m token \u001b[39m=\u001b[39m \u001b[39mself\u001b[39m\u001b[39m.\u001b[39msample(\n\u001b[1;32m    712\u001b[0m     top_k\u001b[39m=\u001b[39mtop_k,\n\u001b[1;32m    713\u001b[0m     top_p\u001b[39m=\u001b[39mtop_p,\n\u001b[0;32m   (...)\u001b[0m\n\u001b[1;32m    727\u001b[0m     idx\u001b[39m=\u001b[39msample_idx,\n\u001b[1;32m    728\u001b[0m )\n\u001b[1;32m    730\u001b[0m sample_idx \u001b[39m+\u001b[39m\u001b[39m=\u001b[39m \u001b[39m1\u001b[39m\n\u001b[0;32m--> 731\u001b[0m \u001b[39mif\u001b[39;00m stopping_criteria \u001b[39mis\u001b[39;00m \u001b[39mnot\u001b[39;00m \u001b[39mNone\u001b[39;00m \u001b[39mand\u001b[39;00m stopping_criteria(\n\u001b[1;32m    732\u001b[0m     \u001b[39mself\u001b[39;49m\u001b[39m.\u001b[39;49m_input_ids, \u001b[39mself\u001b[39;49m\u001b[39m.\u001b[39;49m_scores[\u001b[39m-\u001b[39;49m\u001b[39m1\u001b[39;49m, :]\n\u001b[1;32m    733\u001b[0m ):\n\u001b[1;32m    734\u001b[0m     \u001b[39mreturn\u001b[39;00m\n\u001b[1;32m    735\u001b[0m tokens_or_none \u001b[39m=\u001b[39m \u001b[39myield\u001b[39;00m token\n",
      "\u001b[1;32m/home/coder/project/labs/3-2-controlling_model_output.ipynb Cell 5\u001b[0m line \u001b[0;36m5\n\u001b[1;32m      <a href='vscode-notebook-cell://syyukkemyldb.labs.coursera.org/home/coder/project/labs/3-2-controlling_model_output.ipynb#W4sdnNjb2RlLXJlbW90ZQ%3D%3D?line=3'>4</a>\u001b[0m \u001b[39mdef\u001b[39;00m \u001b[39mshould_stop\u001b[39m(input_ids, logits) \u001b[39m-\u001b[39m\u001b[39m>\u001b[39m \u001b[39mbool\u001b[39m:\n\u001b[0;32m----> <a href='vscode-notebook-cell://syyukkemyldb.labs.coursera.org/home/coder/project/labs/3-2-controlling_model_output.ipynb#W4sdnNjb2RlLXJlbW90ZQ%3D%3D?line=4'>5</a>\u001b[0m     \u001b[39mreturn\u001b[39;00m \u001b[39mFalse\u001b[39;00m\n",
      "\u001b[1;32m/home/coder/project/labs/3-2-controlling_model_output.ipynb Cell 5\u001b[0m line \u001b[0;36m5\n\u001b[1;32m      <a href='vscode-notebook-cell://syyukkemyldb.labs.coursera.org/home/coder/project/labs/3-2-controlling_model_output.ipynb#W4sdnNjb2RlLXJlbW90ZQ%3D%3D?line=3'>4</a>\u001b[0m \u001b[39mdef\u001b[39;00m \u001b[39mshould_stop\u001b[39m(input_ids, logits) \u001b[39m-\u001b[39m\u001b[39m>\u001b[39m \u001b[39mbool\u001b[39m:\n\u001b[0;32m----> <a href='vscode-notebook-cell://syyukkemyldb.labs.coursera.org/home/coder/project/labs/3-2-controlling_model_output.ipynb#W4sdnNjb2RlLXJlbW90ZQ%3D%3D?line=4'>5</a>\u001b[0m     \u001b[39mreturn\u001b[39;00m \u001b[39mFalse\u001b[39;00m\n",
      "File \u001b[0;32m_pydevd_bundle/pydevd_cython.pyx:1457\u001b[0m, in \u001b[0;36m_pydevd_bundle.pydevd_cython.SafeCallWrapper.__call__\u001b[0;34m()\u001b[0m\n",
      "File \u001b[0;32m_pydevd_bundle/pydevd_cython.pyx:701\u001b[0m, in \u001b[0;36m_pydevd_bundle.pydevd_cython.PyDBFrame.trace_dispatch\u001b[0;34m()\u001b[0m\n",
      "File \u001b[0;32m_pydevd_bundle/pydevd_cython.pyx:1152\u001b[0m, in \u001b[0;36m_pydevd_bundle.pydevd_cython.PyDBFrame.trace_dispatch\u001b[0;34m()\u001b[0m\n",
      "File \u001b[0;32m_pydevd_bundle/pydevd_cython.pyx:1135\u001b[0m, in \u001b[0;36m_pydevd_bundle.pydevd_cython.PyDBFrame.trace_dispatch\u001b[0;34m()\u001b[0m\n",
      "File \u001b[0;32m_pydevd_bundle/pydevd_cython.pyx:312\u001b[0m, in \u001b[0;36m_pydevd_bundle.pydevd_cython.PyDBFrame.do_wait_suspend\u001b[0;34m()\u001b[0m\n",
      "File \u001b[0;32m/usr/local/lib/python3.10/dist-packages/debugpy/_vendored/pydevd/pydevd.py:2070\u001b[0m, in \u001b[0;36mPyDB.do_wait_suspend\u001b[0;34m(self, thread, frame, event, arg, exception_type)\u001b[0m\n\u001b[1;32m   2067\u001b[0m             from_this_thread\u001b[39m.\u001b[39mappend(frame_custom_thread_id)\n\u001b[1;32m   2069\u001b[0m     \u001b[39mwith\u001b[39;00m \u001b[39mself\u001b[39m\u001b[39m.\u001b[39m_threads_suspended_single_notification\u001b[39m.\u001b[39mnotify_thread_suspended(thread_id, thread, stop_reason):\n\u001b[0;32m-> 2070\u001b[0m         keep_suspended \u001b[39m=\u001b[39m \u001b[39mself\u001b[39;49m\u001b[39m.\u001b[39;49m_do_wait_suspend(thread, frame, event, arg, suspend_type, from_this_thread, frames_tracker)\n\u001b[1;32m   2072\u001b[0m frames_list \u001b[39m=\u001b[39m \u001b[39mNone\u001b[39;00m\n\u001b[1;32m   2074\u001b[0m \u001b[39mif\u001b[39;00m keep_suspended:\n\u001b[1;32m   2075\u001b[0m     \u001b[39m# This means that we should pause again after a set next statement.\u001b[39;00m\n",
      "File \u001b[0;32m/usr/local/lib/python3.10/dist-packages/debugpy/_vendored/pydevd/pydevd.py:2106\u001b[0m, in \u001b[0;36mPyDB._do_wait_suspend\u001b[0;34m(self, thread, frame, event, arg, suspend_type, from_this_thread, frames_tracker)\u001b[0m\n\u001b[1;32m   2103\u001b[0m         \u001b[39mself\u001b[39m\u001b[39m.\u001b[39m_call_input_hook()\n\u001b[1;32m   2105\u001b[0m     \u001b[39mself\u001b[39m\u001b[39m.\u001b[39mprocess_internal_commands()\n\u001b[0;32m-> 2106\u001b[0m     time\u001b[39m.\u001b[39;49msleep(\u001b[39m0.01\u001b[39;49m)\n\u001b[1;32m   2108\u001b[0m \u001b[39mself\u001b[39m\u001b[39m.\u001b[39mcancel_async_evaluation(get_current_thread_id(thread), \u001b[39mstr\u001b[39m(\u001b[39mid\u001b[39m(frame)))\n\u001b[1;32m   2110\u001b[0m \u001b[39m# process any stepping instructions\u001b[39;00m\n",
      "\u001b[0;31mKeyboardInterrupt\u001b[0m: "
     ]
    }
   ],
   "source": [
    "# Let's define the function we are going to use as our\n",
    "# stopping criteria. At the moment I'm just going to\n",
    "# return false, and set a breakpoint on this line\n",
    "def should_stop(input_ids, logits) -> bool:\n",
    "    return False\n",
    "\n",
    "\n",
    "# Now we'll do the rest as we did previously, this\n",
    "# time setting up our stopping_criteria callback. I want\n",
    "# to use a temperature of zero just for a demonstration\n",
    "token_count: int = 0\n",
    "for result in model.create_completion(\n",
    "    prompt=\"What is the sound of one hand clapping?\",\n",
    "    max_tokens=512,\n",
    "    stream=True,\n",
    "    temperature=0,\n",
    "    stopping_criteria=should_stop,\n",
    "):\n",
    "    if token_count % 50 == 0:\n",
    "        print(\"\")\n",
    "    token_count = token_count + 1\n",
    "    print(result[\"choices\"][0][\"text\"], end=\"\")"
   ]
  },
  {
   "cell_type": "markdown",
   "metadata": {},
   "source": [
    "Ok, to debug the cell in vs code I'm going to set a breakpoint in the margin on line five. Then we can hit the drop down\n",
    "on the left hand side to run the cell in debug mode.\n",
    "\n",
    "In the debug panel to the left we can see our local variables -- the `input_ids` parameter, and if we expand that we can\n",
    "see it has 11 values in it, all numbers. Take a minute to think about this -- what do you think those numbers are?\n"
   ]
  },
  {
   "cell_type": "markdown",
   "metadata": {},
   "source": [
    "It turns out that is our sequence of tokens. If we expand the globals section of the debugger we see that the llama\n",
    "object is there as `model`. We looked at tokenization previously, and the model object has a handy function to\n",
    "detokenize a sequence, converting it back into the text representation which is more familiar to us.\n",
    "\n",
    "To do that we have a couple of options available to us, and I'm going to show you both just in case you are unfamiliar\n",
    "with the vs code debugging facilities. The first is to add a watch variable. This is some expression which will persist\n",
    "across various debugging runs, and is a hand method to use when debugging loops. I'm going to add the watch expression\n",
    "as `model.detokenize(input_ids)`. Once I do this it becomes clear that this is our prompt!\n",
    "\n",
    "Another option is to use the debug console at the bottom of the window. This allows you to write arbitrary python to\n",
    "interact with the interpreter. If I put in the same code here, `model.detokenize(input_ids)`, we get the same result.\n"
   ]
  },
  {
   "cell_type": "markdown",
   "metadata": {},
   "source": [
    "Now, this isn't at all unique to llama 2, but it's an important skill in when you want to understand new and emerging\n",
    "packages and the documentation is lacking. If you haven't seen this before, I encourage you to try it out, and perhaps\n",
    "look up a few videos on debugging in vs code. If you can master your toolkit, your ability to solve problems will\n",
    "increase two fold.\n"
   ]
  },
  {
   "cell_type": "markdown",
   "metadata": {},
   "source": [
    "Let's go back to our function. We're returning `False` here, which will indicate that the stream of tokens has not yet\n",
    "met a stopping criteria. We can hit the debug continue button, or F5, a few times to go through a few breakpoint\n",
    "iterations. As we do this, we can see that the sequence grows in size, and that the detokenization of it is giving us\n",
    "the prompt plus the continuation.\n"
   ]
  },
  {
   "cell_type": "markdown",
   "metadata": {},
   "source": [
    "Let's turn our attention to the logits. The logits is huge, 32,000 items, so you can imagine this aligns with our\n",
    "vocabulary. Each of the values in the logits array is the log odds that a given token will be the right one for the next\n",
    "response. Don't let this scare you away, the log odds -- a logit -- is basically just a probability value that ranges\n",
    "from negative infinity to positive infinity.\n",
    "\n",
    "Let's open the debug console and see what some of the best logits are.\n"
   ]
  },
  {
   "cell_type": "markdown",
   "metadata": {},
   "source": [
    "I'm not going to go into the details about how this mapping is done, but what we want are the values which are closest\n",
    "to zero. These are our most likely candidates, and the values which are out towards positive or negative infinity are\n",
    "our least likely candidates.\n",
    "\n",
    "Do do this I'm going to `import numpy as np` first, then I'm going to take the absolute value of the logits array, sort\n",
    "it by size, then take the last five items -- which will be our five closest to zero -- and detokenize them to see if it\n",
    "makes sense.\n",
    "\n",
    "Keep in mind that when you see the string output, it's actually in reverse order. The most likely token is the very last\n",
    "one, so we can slice the last five items using numpy slicing syntax to reverse them.\n",
    "\n",
    "Here's the code for that: `model.detokenize(np.absolute(logits).argsort()[-5:][::-1])`\n"
   ]
  },
  {
   "cell_type": "markdown",
   "metadata": {},
   "source": [
    "## Summary\n",
    "\n",
    "Ok, in this lecture I wanted to show you two different ways you can control the output of the LLM, the first is through\n",
    "a sequence of stopping items provided as a list, and the second is through the `stopping_criteria` where you can provide\n",
    "multiple different callback functions which operate on the underlying probabilities of the model responses. Both are\n",
    "useful, and you can imagine that with a function in the `stopping_criteria` you can do anything you might want to do in\n",
    "python, including validating that the response fits a specific regular expression pattern, or even raising a partially\n",
    "completed prompt to another service, process, or person to validate.\n",
    "\n",
    "Along the way I demonstrated how you can use the vs code environment to dig into the underlying operation of the LLM\n",
    "and, frankly, I just showed a simple example! Once you have mastered debugging skills within the platform, you can\n",
    "quickly pick up software packages like llama.cpp's python bindings by just stepping through the code to see how it\n",
    "works. I think this is an incredibly important developer skill that often we don't do a good job teaching, so I hope\n",
    "you'll consider exploring this on your own to better understand how the llama.cpp package works.\n"
   ]
  }
 ],
 "metadata": {
  "kernelspec": {
   "display_name": "Python 3",
   "language": "python",
   "name": "python3"
  },
  "language_info": {
   "codemirror_mode": {
    "name": "ipython",
    "version": 3
   },
   "file_extension": ".py",
   "mimetype": "text/x-python",
   "name": "python",
   "nbconvert_exporter": "python",
   "pygments_lexer": "ipython3",
   "version": "3.10.12"
  }
 },
 "nbformat": 4,
 "nbformat_minor": 2
}
