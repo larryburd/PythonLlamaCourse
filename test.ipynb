{
 "cells": [
  {
   "cell_type": "code",
   "execution_count": null,
   "metadata": {},
   "outputs": [],
   "source": [
    "import os\n",
    "import sys\n",
    "\n",
    "def downloadURL(url):\n",
    "  os.mkdir('data')\n",
    "  local_filename = url.split('/')[-1]\n",
    "  full_filename = os.path.join('data', local_filename)\n",
    "  r = requests.get(url, stream=True)\n",
    "  with open(full_filename, 'wb') as f:\n",
    "    for chunk in r.iter_content(chunk_size=1024): \n",
    "      if chunk: # filter out keep-alive new chunks\n",
    "        f.write(chunk)\n",
    "        f.flush()\n",
    "<END EDITING HERE>\n",
    "\n"
   ]
  }
 ],
 "metadata": {
  "language_info": {
   "name": "python"
  }
 },
 "nbformat": 4,
 "nbformat_minor": 2
}
